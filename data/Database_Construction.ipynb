{
 "cells": [
  {
   "cell_type": "code",
   "execution_count": 2,
   "metadata": {},
   "outputs": [],
   "source": [
    "import pandas as pd\n",
    "import numpy as np\n",
    "import pymongo\n",
    "import dns\n",
    "import datetime as dt"
   ]
  },
  {
   "cell_type": "code",
   "execution_count": 3,
   "metadata": {},
   "outputs": [],
   "source": [
    "volcano_file = 'volcano_data.csv'\n",
    "eruptions_file = 'eruption_data.csv'"
   ]
  },
  {
   "cell_type": "code",
   "execution_count": 4,
   "metadata": {},
   "outputs": [],
   "source": [
    "vol_data= pd.read_csv(volcano_file)\n",
    "eruption_data= pd.read_csv(eruptions_file)"
   ]
  },
  {
   "cell_type": "code",
   "execution_count": 5,
   "metadata": {},
   "outputs": [],
   "source": [
    "username = 'vulcan'\n",
    "password = '4fhXGrbneWwY1fTX'\n",
    "mongo = \"mongodb+srv://\" + username +\":\"+ password +\"@cluster0.ilrpi.mongodb.net/myFirstDatabase?retryWrites=true&w=majority\"\n",
    "client = pymongo.MongoClient(mongo)\n",
    "db = client['Volcanoes']"
   ]
  },
  {
   "cell_type": "code",
   "execution_count": 21,
   "metadata": {},
   "outputs": [
    {
     "data": {
      "text/plain": [
       "1412"
      ]
     },
     "execution_count": 21,
     "metadata": {},
     "output_type": "execute_result"
    }
   ],
   "source": [
    "vol_num=vol_data['volcano_number'].unique()\n",
    "len(vol_num)"
   ]
  },
  {
   "cell_type": "code",
   "execution_count": 45,
   "metadata": {},
   "outputs": [],
   "source": [
    "collection = db['Volcanoes']\n",
    "\n",
    "for x in vol_num:\n",
    "    df=vol_data[vol_data['volcano_number'] == x]\n",
    "    obj = {\n",
    "        'volcano_number': str(df['volcano_number'].iloc[0]),\n",
    "        'volcano_name':str(df['volcano_name'].iloc[0]),\n",
    "        'primary_volcano_type':str(df['primary_volcano_type'].iloc[0]),\n",
    "        'country':str(df['country'].iloc[0]),\n",
    "        'latitude':float(df['latitude'].iloc[0]),\n",
    "        'longitude':float(df['longitude'].iloc[0]),\n",
    "        'elevation':float(df['elevation'].iloc[0]),\n",
    "        'tectonic_settings':str(df['tectonic_settings'].iloc[0]),\n",
    "        'evidence_category':str(df['evidence_category'].iloc[0]),\n",
    "        'eruptions':[]\n",
    "    }\n",
    "    vol_er=eruption_data[eruption_data['volcano_number']== x]\n",
    "    unique_eruptions= vol_er['eruption_number'].unique()\n",
    "    for y in unique_eruptions:\n",
    "        data=vol_er[vol_er['eruption_number'] == y]\n",
    "        eruptions= {\n",
    "            'eruption_number':int(data['eruption_number'].iloc[0]),\n",
    "            'eruption_category':str(data['eruption_category'].iloc[0]),\n",
    "            'vei':str(data['vei'].iloc[0]),\n",
    "            'start_year':str(data['start_year'].iloc[0]),                \n",
    "            'start_month':str(data['start_month'].iloc[0]),\n",
    "            'start_day':str(data['start_day'].iloc[0]),\n",
    "            'evidence_method_dating':str(data['evidence_method_dating'].iloc[0]),\n",
    "            'end_year':str(data['end_year'].iloc[0]),\n",
    "            'end_month':str(data['end_month'].iloc[0]),\n",
    "            'end_day':str(data['end_day'].iloc[0])\n",
    "        }\n",
    "        obj['eruptions'].append(eruptions)\n",
    "        \n",
    "\n",
    "    id = collection.insert_one(obj).inserted_id"
   ]
  },
  {
   "cell_type": "code",
   "execution_count": 19,
   "metadata": {},
   "outputs": [
    {
     "data": {
      "text/plain": [
       "{'volcano_number': '210010',\n",
       " 'volcano_name': 'West Eifel Volcanic Field',\n",
       " 'primary_volcano_type': 'Maar(s)',\n",
       " 'country': 'Germany',\n",
       " 'latitude': 50,\n",
       " 'longitude': 6,\n",
       " 'elevation': 600,\n",
       " 'tectonic_settings': 'Rift zone / Continental crust (>25 km)',\n",
       " 'evidence_category': 'Eruption Dated',\n",
       " 'eruptions': [],\n",
       " '_id': ObjectId('6088a3a56a0837c236747550')}"
      ]
     },
     "execution_count": 19,
     "metadata": {},
     "output_type": "execute_result"
    }
   ],
   "source": [
    "obj"
   ]
  },
  {
   "cell_type": "code",
   "execution_count": 41,
   "metadata": {},
   "outputs": [
    {
     "data": {
      "text/plain": [
       "2"
      ]
     },
     "execution_count": 41,
     "metadata": {},
     "output_type": "execute_result"
    }
   ],
   "source": [
    "    vol_er=eruption_data[eruption_data['volcano_number']== 210010]\n",
    "    unique_eruptions= vol_er['eruption_number'].unique()\n",
    "    len(unique_eruptions)"
   ]
  },
  {
   "cell_type": "code",
   "execution_count": 20,
   "metadata": {},
   "outputs": [
    {
     "data": {
      "text/html": [
       "<div>\n",
       "<style scoped>\n",
       "    .dataframe tbody tr th:only-of-type {\n",
       "        vertical-align: middle;\n",
       "    }\n",
       "\n",
       "    .dataframe tbody tr th {\n",
       "        vertical-align: top;\n",
       "    }\n",
       "\n",
       "    .dataframe thead th {\n",
       "        text-align: right;\n",
       "    }\n",
       "</style>\n",
       "<table border=\"1\" class=\"dataframe\">\n",
       "  <thead>\n",
       "    <tr style=\"text-align: right;\">\n",
       "      <th></th>\n",
       "      <th>volcano_number</th>\n",
       "      <th>volcano_name</th>\n",
       "      <th>primary_volcano_type</th>\n",
       "      <th>country</th>\n",
       "      <th>latitude</th>\n",
       "      <th>longitude</th>\n",
       "      <th>elevation</th>\n",
       "      <th>tectonic_settings</th>\n",
       "      <th>evidence_category</th>\n",
       "    </tr>\n",
       "  </thead>\n",
       "  <tbody>\n",
       "    <tr>\n",
       "      <th>0</th>\n",
       "      <td>210010</td>\n",
       "      <td>West Eifel Volcanic Field</td>\n",
       "      <td>Maar(s)</td>\n",
       "      <td>Germany</td>\n",
       "      <td>50.170</td>\n",
       "      <td>6.850</td>\n",
       "      <td>600</td>\n",
       "      <td>Rift zone / Continental crust (&gt;25 km)</td>\n",
       "      <td>Eruption Dated</td>\n",
       "    </tr>\n",
       "    <tr>\n",
       "      <th>1</th>\n",
       "      <td>210020</td>\n",
       "      <td>Chaine des Puys</td>\n",
       "      <td>Lava dome(s)</td>\n",
       "      <td>France</td>\n",
       "      <td>45.775</td>\n",
       "      <td>2.970</td>\n",
       "      <td>1464</td>\n",
       "      <td>Rift zone / Continental crust (&gt;25 km)</td>\n",
       "      <td>Eruption Dated</td>\n",
       "    </tr>\n",
       "    <tr>\n",
       "      <th>2</th>\n",
       "      <td>210030</td>\n",
       "      <td>Olot Volcanic Field</td>\n",
       "      <td>Pyroclastic cone(s)</td>\n",
       "      <td>Spain</td>\n",
       "      <td>42.170</td>\n",
       "      <td>2.530</td>\n",
       "      <td>893</td>\n",
       "      <td>Intraplate / Continental crust (&gt;25 km)</td>\n",
       "      <td>Evidence Credible</td>\n",
       "    </tr>\n",
       "    <tr>\n",
       "      <th>3</th>\n",
       "      <td>210040</td>\n",
       "      <td>Calatrava Volcanic Field</td>\n",
       "      <td>Pyroclastic cone(s)</td>\n",
       "      <td>Spain</td>\n",
       "      <td>38.870</td>\n",
       "      <td>-4.020</td>\n",
       "      <td>1117</td>\n",
       "      <td>Intraplate / Continental crust (&gt;25 km)</td>\n",
       "      <td>Eruption Dated</td>\n",
       "    </tr>\n",
       "    <tr>\n",
       "      <th>4</th>\n",
       "      <td>211003</td>\n",
       "      <td>Vulsini</td>\n",
       "      <td>Caldera</td>\n",
       "      <td>Italy</td>\n",
       "      <td>42.600</td>\n",
       "      <td>11.930</td>\n",
       "      <td>800</td>\n",
       "      <td>Subduction zone / Continental crust (&gt;25 km)</td>\n",
       "      <td>Eruption Observed</td>\n",
       "    </tr>\n",
       "    <tr>\n",
       "      <th>...</th>\n",
       "      <td>...</td>\n",
       "      <td>...</td>\n",
       "      <td>...</td>\n",
       "      <td>...</td>\n",
       "      <td>...</td>\n",
       "      <td>...</td>\n",
       "      <td>...</td>\n",
       "      <td>...</td>\n",
       "      <td>...</td>\n",
       "    </tr>\n",
       "    <tr>\n",
       "      <th>1407</th>\n",
       "      <td>390120</td>\n",
       "      <td>Leskov Island</td>\n",
       "      <td>Stratovolcano</td>\n",
       "      <td>United Kingdom</td>\n",
       "      <td>-56.656</td>\n",
       "      <td>-28.140</td>\n",
       "      <td>190</td>\n",
       "      <td>Subduction zone / Oceanic crust (&lt; 15 km)</td>\n",
       "      <td>Unrest / Holocene</td>\n",
       "    </tr>\n",
       "    <tr>\n",
       "      <th>1408</th>\n",
       "      <td>390130</td>\n",
       "      <td>Zavodovski</td>\n",
       "      <td>Stratovolcano</td>\n",
       "      <td>United Kingdom</td>\n",
       "      <td>-56.300</td>\n",
       "      <td>-27.570</td>\n",
       "      <td>551</td>\n",
       "      <td>Subduction zone / Oceanic crust (&lt; 15 km)</td>\n",
       "      <td>Eruption Observed</td>\n",
       "    </tr>\n",
       "    <tr>\n",
       "      <th>1409</th>\n",
       "      <td>390140</td>\n",
       "      <td>Protector Seamounts</td>\n",
       "      <td>Submarine</td>\n",
       "      <td>United Kingdom</td>\n",
       "      <td>-55.912</td>\n",
       "      <td>-28.167</td>\n",
       "      <td>-55</td>\n",
       "      <td>Subduction zone / Oceanic crust (&lt; 15 km)</td>\n",
       "      <td>Eruption Observed</td>\n",
       "    </tr>\n",
       "    <tr>\n",
       "      <th>1410</th>\n",
       "      <td>390829</td>\n",
       "      <td>James Ross Island</td>\n",
       "      <td>Shield</td>\n",
       "      <td>Antarctica</td>\n",
       "      <td>-64.150</td>\n",
       "      <td>-57.750</td>\n",
       "      <td>1630</td>\n",
       "      <td>Intraplate / Continental crust (&gt;25 km)</td>\n",
       "      <td>Evidence Credible</td>\n",
       "    </tr>\n",
       "    <tr>\n",
       "      <th>1411</th>\n",
       "      <td>390847</td>\n",
       "      <td>Melville</td>\n",
       "      <td>Stratovolcano</td>\n",
       "      <td>Antarctica</td>\n",
       "      <td>-62.020</td>\n",
       "      <td>-57.670</td>\n",
       "      <td>549</td>\n",
       "      <td>Intraplate / Continental crust (&gt;25 km)</td>\n",
       "      <td>Evidence Uncertain</td>\n",
       "    </tr>\n",
       "  </tbody>\n",
       "</table>\n",
       "<p>1412 rows × 9 columns</p>\n",
       "</div>"
      ],
      "text/plain": [
       "      volcano_number               volcano_name primary_volcano_type  \\\n",
       "0             210010  West Eifel Volcanic Field              Maar(s)   \n",
       "1             210020            Chaine des Puys         Lava dome(s)   \n",
       "2             210030        Olot Volcanic Field  Pyroclastic cone(s)   \n",
       "3             210040   Calatrava Volcanic Field  Pyroclastic cone(s)   \n",
       "4             211003                    Vulsini              Caldera   \n",
       "...              ...                        ...                  ...   \n",
       "1407          390120              Leskov Island        Stratovolcano   \n",
       "1408          390130                 Zavodovski        Stratovolcano   \n",
       "1409          390140        Protector Seamounts            Submarine   \n",
       "1410          390829          James Ross Island               Shield   \n",
       "1411          390847                   Melville        Stratovolcano   \n",
       "\n",
       "             country  latitude  longitude  elevation  \\\n",
       "0            Germany    50.170      6.850        600   \n",
       "1             France    45.775      2.970       1464   \n",
       "2              Spain    42.170      2.530        893   \n",
       "3              Spain    38.870     -4.020       1117   \n",
       "4              Italy    42.600     11.930        800   \n",
       "...              ...       ...        ...        ...   \n",
       "1407  United Kingdom   -56.656    -28.140        190   \n",
       "1408  United Kingdom   -56.300    -27.570        551   \n",
       "1409  United Kingdom   -55.912    -28.167        -55   \n",
       "1410      Antarctica   -64.150    -57.750       1630   \n",
       "1411      Antarctica   -62.020    -57.670        549   \n",
       "\n",
       "                                 tectonic_settings   evidence_category  \n",
       "0           Rift zone / Continental crust (>25 km)      Eruption Dated  \n",
       "1           Rift zone / Continental crust (>25 km)      Eruption Dated  \n",
       "2          Intraplate / Continental crust (>25 km)   Evidence Credible  \n",
       "3          Intraplate / Continental crust (>25 km)      Eruption Dated  \n",
       "4     Subduction zone / Continental crust (>25 km)   Eruption Observed  \n",
       "...                                            ...                 ...  \n",
       "1407     Subduction zone / Oceanic crust (< 15 km)   Unrest / Holocene  \n",
       "1408     Subduction zone / Oceanic crust (< 15 km)   Eruption Observed  \n",
       "1409     Subduction zone / Oceanic crust (< 15 km)   Eruption Observed  \n",
       "1410       Intraplate / Continental crust (>25 km)   Evidence Credible  \n",
       "1411       Intraplate / Continental crust (>25 km)  Evidence Uncertain  \n",
       "\n",
       "[1412 rows x 9 columns]"
      ]
     },
     "execution_count": 20,
     "metadata": {},
     "output_type": "execute_result"
    }
   ],
   "source": [
    "vol_data"
   ]
  },
  {
   "cell_type": "code",
   "execution_count": null,
   "metadata": {},
   "outputs": [],
   "source": [
    "df=vol_data[vol_data['volcano_number'] == x]"
   ]
  },
  {
   "cell_type": "code",
   "execution_count": null,
   "metadata": {},
   "outputs": [],
   "source": [
    "    unique_eruptions= eruption_data['volcano_number'].unique()\n",
    "    for y in unique_eruptions:\n",
    "        df=unique_eruptions[unique_eruptions['volcano_number'] == y]\n",
    "        eruptions= {\n",
    "            'eruption_number':int(df['eruption_number'].iloc[0]),\n",
    "            'eruption_catergory':str(df['eruption_catergory'].iloc[0]),\n",
    "            'vei':str(df['vei'].iloc[0]),\n",
    "            'eruption_catergory':str(df['eruption_catergory'].iloc[0]),\n",
    "            'start_year':str(df['start_year'].iloc[0]),                \n",
    "            'start_month':str(df['start_month'].iloc[0]),\n",
    "            'start_day':str(df['start_day'].iloc[0]),\n",
    "            'evidence_method_dating':str(df['evidence_method_dating'].iloc[0]),\n",
    "            'end_year':str(df['end_year'].iloc[0]),\n",
    "            'end_month':str(df['end_month'].iloc[0]),\n",
    "            'end_day':str(df['end_day'].iloc[0])\n",
    "        }\n",
    "        obj['eruptions'].append(eruptions)"
   ]
  }
 ],
 "metadata": {
  "kernelspec": {
   "display_name": "Python 3",
   "language": "python",
   "name": "python3"
  },
  "language_info": {
   "codemirror_mode": {
    "name": "ipython",
    "version": 3
   },
   "file_extension": ".py",
   "mimetype": "text/x-python",
   "name": "python",
   "nbconvert_exporter": "python",
   "pygments_lexer": "ipython3",
   "version": "3.8.3"
  }
 },
 "nbformat": 4,
 "nbformat_minor": 4
}
